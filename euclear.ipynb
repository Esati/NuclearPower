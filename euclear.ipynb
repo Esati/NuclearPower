{
 "cells": [
  {
   "cell_type": "markdown",
   "metadata": {
    "slideshow": {
     "slide_type": "notes"
    }
   },
   "source": [
    "# Sentiment Analysis for Reddit users on Nuclar Energy\n",
    "\n",
    "When Enrico Fermi built the first nuclear reactor at the University of Chicago, it was still an elusive technology that promissed a lot. After the World-War II, and the dropping og the nuclear bombs over Hiroshima and Nagasaki, the world was shocked at the destructive power of atomic energy. This hoever, did not prevent governments to engage in masive Nuclear power-plant project in the hope of electrifying their economies. "
   ]
  },
  {
   "cell_type": "code",
   "execution_count": null,
   "metadata": {
    "slideshow": {
     "slide_type": "slide"
    }
   },
   "outputs": [],
   "source": [
    "import pandas as pd\n",
    "import datetime as dt\n",
    "import matplotlib.pyplot as plt\n",
    "from nltk.sentiment import SentimentIntensityAnalyzer\n",
    "import requests\n",
    "import time\n",
    "\n",
    "import praw\n",
    "from datetime import datetime, timedelta\n",
    "import nltk\n",
    "from nltk.tokenize import word_tokenize\n",
    "from nltk.corpus import stopwords\n",
    "import string"
   ]
  },
  {
   "cell_type": "markdown",
   "metadata": {
    "slideshow": {
     "slide_type": "notes"
    }
   },
   "source": [
    "It took me a while to set up the reddit app. It was also not properly working at the beginnig. "
   ]
  },
  {
   "cell_type": "code",
   "execution_count": null,
   "metadata": {
    "slideshow": {
     "slide_type": "slide"
    }
   },
   "outputs": [],
   "source": [
    "reddit = praw.Reddit(\n",
    "    client_id=\"NQryrzEJMx9V_p7_7nTO-g\",\n",
    "    client_secret=\"prCOqfgHb8QaRIML3IQzmJYXDx89YA\",\n",
    "    user_agent=\"EUgoNuclear/1.0 (by /u/Cap12345678)\",\n",
    "    username=\"u/Cap12345678\"\n",
    ")"
   ]
  },
  {
   "cell_type": "code",
   "execution_count": null,
   "metadata": {
    "slideshow": {
     "slide_type": "subslide"
    }
   },
   "outputs": [],
   "source": [
    "subreddits = ['NuclearEnergy', 'nuclear', 'NuclearPower', 'environment']\n",
    "posts = []\n",
    "\n",
    "for subreddit_name in subreddits:\n",
    "    subreddit = reddit.subreddit(subreddit_name)\n",
    "    for submission in subreddit.top(limit=100000):\n",
    "        posts.append([submission.title, submission.selftext, submission.score, submission.created_utc])\n",
    "\n",
    "df = pd.DataFrame(posts, columns=['title', 'content', 'score', 'timestamp'])\n",
    "df['timestamp'] = pd.to_datetime(df['timestamp'], unit='s') \n",
    "df.to_csv('reddit_nuclear_energy.csv')"
   ]
  },
  {
   "cell_type": "code",
   "execution_count": null,
   "metadata": {
    "slideshow": {
     "slide_type": "subslide"
    }
   },
   "outputs": [],
   "source": [
    "df"
   ]
  },
  {
   "cell_type": "code",
   "execution_count": null,
   "metadata": {
    "slideshow": {
     "slide_type": "slide"
    }
   },
   "outputs": [],
   "source": [
    "from textblob import TextBlob\n",
    "import matplotlib.pyplot as plt\n",
    "\n",
    "def classify_sentiment(text):\n",
    "    sentiment_score = TextBlob(str(text)).sentiment.polarity\n",
    "    if sentiment_score > 0:\n",
    "        return 'positive'\n",
    "    elif sentiment_score < 0:\n",
    "        return 'negative'\n",
    "    else:\n",
    "        return 'neutral'\n",
    "\n",
    "df['sentiment_category'] = df['content'].apply(classify_sentiment)"
   ]
  },
  {
   "cell_type": "code",
   "execution_count": null,
   "metadata": {
    "slideshow": {
     "slide_type": "subslide"
    }
   },
   "outputs": [],
   "source": [
    "positive_trend = df[df['sentiment_category'] == 'positive'].resample('M', on='timestamp').size()\n",
    "neutral_trend = df[df['sentiment_category'] == 'neutral'].resample('M', on='timestamp').size()\n",
    "negative_trend = df[df['sentiment_category'] == 'negative'].resample('M', on='timestamp').size()"
   ]
  },
  {
   "cell_type": "code",
   "execution_count": null,
   "metadata": {
    "slideshow": {
     "slide_type": "subslide"
    }
   },
   "outputs": [],
   "source": [
    "plt.plot(positive_trend.index, positive_trend.values, label='Positive')\n",
    "#plt.plot(neutral_trend.index, neutral_trend.values, label='Neutral')\n",
    "plt.plot(negative_trend.index, negative_trend.values, label='Negative')\n",
    "plt.xlabel('Date')\n",
    "plt.ylabel('Count')\n",
    "plt.title('Sentiment Trend over Time')\n",
    "plt.legend()\n",
    "plt.show()"
   ]
  },
  {
   "cell_type": "code",
   "execution_count": null,
   "metadata": {
    "slideshow": {
     "slide_type": "slide"
    }
   },
   "outputs": [],
   "source": [
    "#Bag of Words\n",
    "from sklearn.feature_extraction.text import CountVectorizer\n",
    "from sklearn.model_selection import train_test_split\n",
    "\n",
    "X = df['title']\n",
    "y = df['score']\n",
    "\n",
    "X_train, X_test, y_train, y_test = train_test_split(X, y, test_size=0.2, random_state=42)\n",
    "\n",
    "vectorizer = CountVectorizer()\n",
    "X_train_counts = vectorizer.fit_transform(X_train)\n",
    "X_test_counts = vectorizer.transform(X_test)"
   ]
  },
  {
   "cell_type": "code",
   "execution_count": null,
   "metadata": {
    "slideshow": {
     "slide_type": "subslide"
    }
   },
   "outputs": [],
   "source": [
    "#Step 5: Training Decision Tree Regressor\n",
    "\n",
    "from sklearn.tree import DecisionTreeRegressor\n",
    "from sklearn.metrics import mean_squared_error\n",
    "\n",
    "hyperparameters = [{'max_depth': 3}, {'max_depth': 5}, {'max_depth': 10}]\n",
    "\n",
    "for params in hyperparameters:\n",
    "    regressor = DecisionTreeRegressor(**params)\n",
    "    regressor.fit(X_train_counts, y_train)\n",
    "    \n",
    "    y_pred_train = regressor.predict(X_train_counts)\n",
    "    y_pred_test = regressor.predict(X_test_counts)\n",
    "    \n",
    "    print(f\"Hyperparameters: {params}\")\n",
    "    print(f\"Training MSE: {mean_squared_error(y_train, y_pred_train)}\")\n",
    "    print(f\"Test MSE: {mean_squared_error(y_test, y_pred_test)}\\n\")\n"
   ]
  },
  {
   "cell_type": "code",
   "execution_count": null,
   "metadata": {
    "slideshow": {
     "slide_type": "slide"
    }
   },
   "outputs": [],
   "source": [
    "'''PF1:chapter 3 slides'''\n",
    "\n",
    "%matplotlib inline\n",
    "import numpy as np\n",
    "import pandas as pd\n",
    "import matplotlib.pyplot as plt \n",
    "import datetime as dt\n",
    "import pandas_datareader.data as web \n",
    "import os\n",
    "import yfinance as yf\n",
    "yf.pdr_override()\n",
    "plt.rc('figure', figsize=(10, 6)) \n",
    "pd.options.display.max_rows = 20 \n",
    "np.set_printoptions(precision=4, suppress=True)"
   ]
  },
  {
   "cell_type": "code",
   "execution_count": null,
   "metadata": {
    "slideshow": {
     "slide_type": "subslide"
    }
   },
   "outputs": [],
   "source": [
    "import yfinance as yf\n",
    "import pandas as pd\n",
    "\n",
    "# List of ticker symbols \n",
    "'''NextEra Energy, Inc. (NEE), Cameco Corporation, Energy Fuels Inc., Uranium Energy Corp., \n",
    "Public Service Enterprise Group Incorporated (PEG), Entergy Corporation (ETR), and Denison Mines Corp.'''\n",
    "tickers = ['NEE', 'CCJ', 'UUUU', 'UEC', 'PEG', 'ETR', 'DNN']\n",
    "\n",
    "# Dates\n",
    "start_date = '2013-01-01'\n",
    "end_date = '2023-08-11'\n",
    "\n",
    "# Create an empty dictionary to store the dataframe\n",
    "stock_data = {}"
   ]
  },
  {
   "cell_type": "code",
   "execution_count": null,
   "metadata": {
    "slideshow": {
     "slide_type": "subslide"
    }
   },
   "outputs": [],
   "source": [
    "for ticker in tickers:\n",
    "    # Download data\n",
    "    data = yf.download(ticker, start=start_date, end=end_date)\n",
    "    \n",
    "    # Store in dictionary\n",
    "    stock_data[ticker] = data\n"
   ]
  },
  {
   "cell_type": "code",
   "execution_count": null,
   "metadata": {
    "slideshow": {
     "slide_type": "subslide"
    }
   },
   "outputs": [],
   "source": [
    "# Print the number of non-missing observations\n",
    "for ticker, data in stock_data.items():\n",
    "    print(f\"{ticker}: {data['Close'].count()} non-missing observations\")"
   ]
  },
  {
   "cell_type": "code",
   "execution_count": null,
   "metadata": {
    "slideshow": {
     "slide_type": "subslide"
    }
   },
   "outputs": [],
   "source": [
    "print(stock_data)"
   ]
  },
  {
   "cell_type": "code",
   "execution_count": null,
   "metadata": {
    "slideshow": {
     "slide_type": "subslide"
    }
   },
   "outputs": [],
   "source": [
    "for stock in stock_data:\n",
    "    print(stock, stock_data[stock].count())"
   ]
  },
  {
   "cell_type": "code",
   "execution_count": null,
   "metadata": {
    "slideshow": {
     "slide_type": "slide"
    }
   },
   "outputs": [],
   "source": [
    "# Create an empty DataFrame to store the rescaled adjusted closing prices\n",
    "rescaled_data = pd.DataFrame()\n",
    "\n",
    "for ticker, data in stock_data.items():\n",
    "    # Find the price at the end of 2021\n",
    "    end_of_2021_price = data['Adj Close']['2021-12-31']\n",
    "    \n",
    "    # Rescale the adjusted closing prices\n",
    "    rescaled_adjusted_close = data['Adj Close'] / end_of_2021_price\n",
    "    \n",
    "    # Add to the rescaled_data DataFrame\n",
    "    rescaled_data[ticker] = rescaled_adjusted_close\n",
    "\n",
    "# Filter the data for the period from 2022 to 2023\n",
    "rescaled_data_2022_2023 = rescaled_data['2022-01-01':'2023-08-11']\n"
   ]
  },
  {
   "cell_type": "code",
   "execution_count": null,
   "metadata": {
    "slideshow": {
     "slide_type": "subslide"
    }
   },
   "outputs": [],
   "source": [
    "# Plot the rescaled adjusted closing prices\n",
    "rescaled_data_2022_2023.plot(figsize=(15,10), title=\"Rescaled Adjusted Closing Prices (2022-2023)\")\n",
    "plt.xlabel(\"Date\")\n",
    "plt.ylabel(\"Rescaled Price\")\n",
    "plt.legend(title=\"Stocks\")\n",
    "plt.show()\n"
   ]
  },
  {
   "cell_type": "code",
   "execution_count": null,
   "metadata": {
    "slideshow": {
     "slide_type": "slide"
    }
   },
   "outputs": [],
   "source": [
    "# Create a new DataFrame to store the calculated values\n",
    "calculated_data = pd.DataFrame()\n",
    "\n",
    "for ticker, data in stock_data.items():\n",
    "    # Calculate the daily arithmetic returns\n",
    "    data['Daily Return'] = data['Adj Close'].pct_change()\n",
    "\n",
    "    # Calculate the intra-day volatility\n",
    "    data['Intra-Day Volatility'] = (data['High'] - data['Low']) / data['Open']\n",
    "\n",
    "    # Select only the relevant columns\n",
    "    calculated_data[ticker + '_Return'] = data['Daily Return']\n",
    "    calculated_data[ticker + '_Volatility'] = data['Intra-Day Volatility']\n"
   ]
  },
  {
   "cell_type": "code",
   "execution_count": null,
   "metadata": {
    "slideshow": {
     "slide_type": "subslide"
    }
   },
   "outputs": [],
   "source": [
    "# Loop through the tickers and create scatter plots\n",
    "for ticker in tickers:\n",
    "    plt.figure(figsize=(10,6))\n",
    "    plt.scatter(calculated_data[ticker + '_Volatility'], calculated_data[ticker + '_Return'], alpha=0.5)\n",
    "    plt.title(f'Scatter Plot for {ticker}')\n",
    "    plt.xlabel('Intra-Day Volatility')\n",
    "    plt.ylabel('Daily Return')\n",
    "    plt.grid(True)\n",
    "    plt.show()\n"
   ]
  },
  {
   "cell_type": "code",
   "execution_count": null,
   "metadata": {
    "slideshow": {
     "slide_type": "slide"
    }
   },
   "outputs": [],
   "source": [
    "# Calculate the equal-weighted portfolio value\n",
    "portfolio_value = rescaled_data.sum(axis=1) / len(tickers)\n",
    "\n",
    "# Filter the data for the period from 2021 to 2023\n",
    "portfolio_value_2022_2023 = portfolio_value['2022-01-01':'2023-08-11']"
   ]
  },
  {
   "cell_type": "code",
   "execution_count": null,
   "metadata": {
    "slideshow": {
     "slide_type": "subslide"
    }
   },
   "outputs": [],
   "source": [
    "plt.figure(figsize=(15,10))\n",
    "portfolio_value_2022_2023.plot(title=\"Equal-Weighted Portfolio Value (2022-2023)\")\n",
    "plt.xlabel(\"Date\")\n",
    "plt.ylabel(\"Portfolio Value\")\n",
    "plt.grid(True)\n",
    "plt.show()"
   ]
  },
  {
   "cell_type": "markdown",
   "metadata": {
    "slideshow": {
     "slide_type": "notes"
    }
   },
   "source": [
    "Analyzing stock performance over a long period of time can provide valuable insights, especially if one is looking for any discontinuities or abnormal behavior. A discontinuity could be the result of significant events like mergers, acquisitions, corporate restructuring, financial crises, or major market news that affect the stock price.\n",
    "\n",
    "Here, I plot the equal-weighted portfolio value from 2013 to 2023 with an emphasis on February 2022 to visually inspect any discontinuity.\n",
    "\n",
    "Equal-weighted portfolio value from 2013 to 2023, with a vertical dashed line at the end of February 2022 is shown below. Significant changes in sentiment can be noticed as of early 2020, but this could mostly be attributed to the COVID shutdown, and major energy portfolio readjustments due to lockdown and grounding of airlines. A second change, however is noticed just prior to Russias invasion of Ukraine, and this could be interpreted as a resilience in sentiment, despite Russias repeated  to nuclear threats, and its assaults in and near Zaporizhzhia Nuclear Power Plant.\n",
    "\n",
    "Visual inspection provides an initial understanding but might not be conclusive. So I might need to apply statistical tests (RDD, for example)."
   ]
  },
  {
   "cell_type": "code",
   "execution_count": null,
   "metadata": {
    "slideshow": {
     "slide_type": "subslide"
    }
   },
   "outputs": [],
   "source": [
    "plt.figure(figsize=(15,10))\n",
    "portfolio_value.plot(title=\"Equal-Weighted Portfolio Value (2013-2023)\")\n",
    "plt.axvline(x='2022-02-28', color='red', linestyle='--', label='February 2022 Cutoff')\n",
    "plt.xlabel(\"Date\")\n",
    "plt.ylabel(\"Portfolio Value\")\n",
    "plt.legend()\n",
    "plt.grid(True)\n",
    "plt.show()"
   ]
  },
  {
   "cell_type": "markdown",
   "metadata": {
    "slideshow": {
     "slide_type": "notes"
    }
   },
   "source": [
    "# Regression Discontinuity Design\n",
    "\n",
    "This is not to test my understanding on RDD, but rrather an atempt to run this model on Python, given the data at hand. My thinking was if I can run the model on scraped data, but I could not come up with examples to follow. I use a paper\n",
    "\n",
    "\n",
    "\n",
    "\n",
    "\\begin{thebibliography}{99}\n",
    "\n",
    "\\bibitem{smith2020}\n",
    "Smith, J., Johnson, K., \\& Williams, L. (2020). Title of the paper. Journal Name, Volume(Issue), Pages.\n",
    "\n",
    "\\end{thebibliography}"
   ]
  },
  {
   "cell_type": "code",
   "execution_count": null,
   "metadata": {
    "slideshow": {
     "slide_type": "slide"
    }
   },
   "outputs": [],
   "source": [
    "import statsmodels.api as sm\n",
    "import statsmodels.formula.api as smf\n",
    "import numpy as np\n",
    "import pandas as pd"
   ]
  },
  {
   "cell_type": "code",
   "execution_count": null,
   "metadata": {
    "slideshow": {
     "slide_type": "slide"
    }
   },
   "outputs": [],
   "source": [
    "# Assume you have a DataFrame 'df' with columns 'outcome', 'treatment', 'running_var'\n",
    "# 'outcome' is the adjusted price (portfolio value)\n",
    "# 'treatment' is the binary treatment indicator (0 or 1 for war in Ukraie)\n",
    "# 'running_var' is the running variable used to define the threshold\n",
    "\n",
    "# Treatment start date\n",
    "treatment_start_date = '2022-02-24'\n",
    "\n",
    "# Create DataFrame\n",
    "rdd_data = pd.DataFrame({\n",
    "    'outcome': portfolio_value, # Portfolio performance\n",
    "    'running_var': portfolio_value.index.to_julian_date(),\n",
    "})\n",
    "\n",
    "# Assign the treatment based on the treatment start date\n",
    "rdd_data['treatment'] = (rdd_data.index >= treatment_start_date).astype(int)\n",
    "\n",
    "# Filter the DataFrame to the relevant period\n",
    "rdd_data = rdd_data['2013-01-01':'2023-08-11']\n",
    "\n",
    "# Print the first few rows to check\n",
    "print(rdd_data.head())\n",
    "print(rdd_data.tail())"
   ]
  },
  {
   "cell_type": "code",
   "execution_count": null,
   "metadata": {},
   "outputs": [],
   "source": [
    "\n",
    "import seaborn as sns\n",
    "\n",
    "# Fit the RDD model"
   ]
  },
  {
   "cell_type": "code",
   "execution_count": null,
   "metadata": {},
   "outputs": [],
   "source": [
    "# Fit the RDD model\n",
    "# Define the threshold value for the running variable\n",
    "threshold_value = pd.Timestamp(treatment_start_date).to_julian_date()\n",
    "\n",
    "# Create an indicator for observations to the right of the threshold\n",
    "rdd_data['threshold_indicator'] = (rdd_data['running_var'] > threshold_value).astype(int)\n",
    "\n",
    "# Interact the treatment indicator with the threshold indicator\n",
    "rdd_data['interaction'] = rdd_data['treatment'] * rdd_data['threshold_indicator']\n",
    "\n",
    "# Define the regression model including the interaction term\n",
    "model_formula = \"outcome ~ treatment + threshold_indicator + interaction + running_var\"\n",
    "\n",
    "# Fit the regression model using Ordinary Least Squares (OLS)\n",
    "result = smf.ols(formula=model_formula, data=rdd_data).fit()\n"
   ]
  },
  {
   "cell_type": "code",
   "execution_count": null,
   "metadata": {},
   "outputs": [],
   "source": [
    "# Create a DataFrame with the running variable and predicted outcome\n",
    "plot_data = pd.DataFrame({\n",
    "    'running_var': rdd_data['running_var'],\n",
    "    'predicted_outcome': result.predict(rdd_data),\n",
    "})"
   ]
  },
  {
   "cell_type": "code",
   "execution_count": null,
   "metadata": {},
   "outputs": [],
   "source": [
    "# Plot the actual outcome\n",
    "plt.scatter(rdd_data['running_var'], rdd_data['outcome'], color='blue', alpha=0.5, label='Actual Outcome')\n",
    "# Plot the predicted outcome (fitted lines)\n",
    "sns.lineplot(x='running_var', y='predicted_outcome', data=plot_data, color='red', label='Fitted Line')\n",
    "\n",
    "# Draw the threshold line\n",
    "plt.axvline(x=pd.Timestamp(treatment_start_date).to_julian_date(), color='green', linestyle='--', label='Threshold')\n",
    "\n",
    "# Labels and legend\n",
    "plt.title('Regression Discontinuity Plot')\n",
    "plt.xlabel('Running Variable')\n",
    "plt.ylabel('Outcome (Portfolio Performance)')\n",
    "plt.legend()\n",
    "plt.show()'''"
   ]
  },
  {
   "cell_type": "code",
   "execution_count": null,
   "metadata": {},
   "outputs": [],
   "source": [
    "import statsmodels.api as sm\n",
    "from statsmodels.sandbox.regression.gmm import IV2SLS\n",
    "\n",
    "\n",
    "\n",
    "# Define the treatment based on the threshold\n",
    "rdd_data['treatment'] = (rdd_data['running_var'] >= threshold_value).astype(int)\n",
    "\n",
    "# Add a constant term\n",
    "rdd_data['const'] = 1\n",
    "\n",
    "# Define endogenous variable (outcome)\n",
    "endog = rdd_data['outcome']\n",
    "\n",
    "# Define exogenous variables\n",
    "exog = rdd_data[['const', 'running_var', 'treatment']]\n",
    "\n",
    "# Define the instrument (just the running variable in this simplified model)\n",
    "instrument = rdd_data[['const', 'running_var']]\n",
    "\n",
    "# Perform the 2SLS regression\n",
    "model_2sls = IV2SLS(endog, exog, instrument=instrument).fit()"
   ]
  },
  {
   "cell_type": "code",
   "execution_count": null,
   "metadata": {},
   "outputs": [],
   "source": [
    "# Print the summary\n",
    "print(model_2sls.summary())"
   ]
  },
  {
   "cell_type": "code",
   "execution_count": null,
   "metadata": {},
   "outputs": [],
   "source": [
    "# Predicted outcome based on the 2SLS fit\n",
    "rdd_data['predicted_outcome'] = model_2sls.predict(exog)\n",
    "\n",
    "# Separate data above and below the threshold\n",
    "below_threshold = rdd_data[rdd_data['running_var'] < threshold_value]\n",
    "above_threshold = rdd_data[rdd_data['running_var'] >= threshold_value]\n",
    "\n",
    "# Plot actual outcomes\n",
    "plt.scatter(rdd_data['running_var'], rdd_data['outcome'], color='blue', alpha=0.5, label='Actual Outcome')\n",
    "\n",
    "# Plot fitted lines for below and above the threshold\n",
    "plt.plot(below_threshold['running_var'], below_threshold['predicted_outcome'], color='red', label='Fitted Line (Below Threshold)')\n",
    "plt.plot(above_threshold['running_var'], above_threshold['predicted_outcome'], color='green', label='Fitted Line (Above Threshold)')\n",
    "\n",
    "# Draw the threshold line\n",
    "plt.axvline(x=threshold_value, color='black', linestyle='--', label='Threshold')\n",
    "\n",
    "# Labels and legend\n",
    "plt.title('Fuzzy Regression Discontinuity Plot')\n",
    "plt.xlabel('Running Variable')\n",
    "plt.ylabel('Outcome (Portfolio Performance)')\n",
    "plt.legend()\n",
    "plt.show()\n"
   ]
  },
  {
   "cell_type": "code",
   "execution_count": null,
   "metadata": {},
   "outputs": [],
   "source": []
  }
 ],
 "metadata": {
  "celltoolbar": "Slideshow",
  "kernelspec": {
   "display_name": "Python 3",
   "language": "python",
   "name": "python3"
  },
  "language_info": {
   "codemirror_mode": {
    "name": "ipython",
    "version": 3
   },
   "file_extension": ".py",
   "mimetype": "text/x-python",
   "name": "python",
   "nbconvert_exporter": "python",
   "pygments_lexer": "ipython3",
   "version": "3.7.7"
  }
 },
 "nbformat": 4,
 "nbformat_minor": 4
}
